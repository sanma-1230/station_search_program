{
 "cells": [
  {
   "cell_type": "code",
   "execution_count": 3,
   "metadata": {},
   "outputs": [],
   "source": [
    "import sqlite3\n",
    "\n",
    "def show_station_cd(na):\n",
    "    database_path = 'database.sqlite'\n",
    "    conn = sqlite3.connect(database_path)\n",
    "    cur = conn.cursor()\n",
    "    tmp = cur.execute(\"select station_name, station_cd from m_station where station_name=?\", (na,)).fetchall()\n",
    "    cur.close()\n",
    "    conn.close()\n",
    "    print(tmp)"
   ]
  },
  {
   "cell_type": "code",
   "execution_count": 4,
   "metadata": {},
   "outputs": [
    {
     "name": "stdout",
     "output_type": "stream",
     "text": [
      "[('原宿', 1130206)]\n"
     ]
    }
   ],
   "source": [
    "na = '原宿'\n",
    "show_station_cd(na)"
   ]
  },
  {
   "cell_type": "code",
   "execution_count": null,
   "metadata": {},
   "outputs": [],
   "source": []
  }
 ],
 "metadata": {
  "kernelspec": {
   "display_name": "Python 3.9.4 64-bit",
   "language": "python",
   "name": "python3"
  },
  "language_info": {
   "codemirror_mode": {
    "name": "ipython",
    "version": 3
   },
   "file_extension": ".py",
   "mimetype": "text/x-python",
   "name": "python",
   "nbconvert_exporter": "python",
   "pygments_lexer": "ipython3",
   "version": "3.9.4 (tags/v3.9.4:1f2e308, Apr  6 2021, 13:40:21) [MSC v.1928 64 bit (AMD64)]"
  },
  "orig_nbformat": 4,
  "vscode": {
   "interpreter": {
    "hash": "b58c97325b31429212130db7cdf6ac8cbad801c8aea9ad69f4b716907cf503e9"
   }
  }
 },
 "nbformat": 4,
 "nbformat_minor": 2
}
